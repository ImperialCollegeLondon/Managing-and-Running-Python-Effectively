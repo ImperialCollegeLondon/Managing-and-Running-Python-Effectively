{
 "cells": [
  {
   "cell_type": "markdown",
   "id": "5a789c7c",
   "metadata": {
    "id": "5a789c7c"
   },
   "source": [
    "# Markdown Cell\n",
    "\n",
    "This is a markdown cell. These can contain different effects:\n",
    "\n",
    "$ x = \\frac{y}{z_{0}} $\n",
    "\n",
    "* Lists\n",
    "* With bulletpoints\n",
    "\n",
    " \n",
    " \n",
    "<center><img src='https://raw.githubusercontent.com/coolernato/Managing-and-Running-Python-Effectively/master/Examples/Notebooks/Jupiter.jpg' width=300/>\n",
    "<figcaption>Jupiter, not Jupyter</figcaption></center>\n",
    "</figure>"
   ]
  },
  {
   "cell_type": "code",
   "execution_count": null,
   "id": "7d82e543",
   "metadata": {
    "id": "7d82e543"
   },
   "outputs": [],
   "source": [
    "import sys\n",
    "\n",
    "# An exclamation mark prefix runs commands in a terminal\n",
    "!{sys.executable} -m pip install numpy\n",
    "!{sys.executable} -m pip install matplotlib\n",
    "\n",
    "# Create  a plot of a sin function\n",
    "import matplotlib.pyplot as plt\n",
    "import numpy as np\n",
    "\n",
    "x = np.arange(0, 100, 0.1)\n",
    "y = np.sin(x)\n",
    "\n",
    "# The output of this print statement will be displayed below the code cell. plt.show() is not required\n",
    "plt.plot(x, y)"
   ]
  },
  {
   "cell_type": "code",
   "execution_count": null,
   "id": "cc306345",
   "metadata": {
    "id": "cc306345"
   },
   "outputs": [],
   "source": [
    "# Commands beginning with a % are ipython magic commands https://ipython.readthedocs.io/en/stable/interactive/magics.html\n",
    "%whos"
   ]
  },
  {
   "cell_type": "code",
   "execution_count": null,
   "id": "12390ec6",
   "metadata": {},
   "outputs": [],
   "source": []
  }
 ],
 "metadata": {
  "colab": {
   "collapsed_sections": [],
   "name": "Sample.ipynb",
   "provenance": []
  },
  "kernelspec": {
   "display_name": "Python 3 (ipykernel)",
   "language": "python",
   "name": "python3"
  },
  "language_info": {
   "codemirror_mode": {
    "name": "ipython",
    "version": 3
   },
   "file_extension": ".py",
   "mimetype": "text/x-python",
   "name": "python",
   "nbconvert_exporter": "python",
   "pygments_lexer": "ipython3",
   "version": "3.8.8"
  }
 },
 "nbformat": 4,
 "nbformat_minor": 5
}
